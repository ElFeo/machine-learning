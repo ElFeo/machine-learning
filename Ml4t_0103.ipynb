{
  "nbformat": 4,
  "nbformat_minor": 0,
  "metadata": {
    "colab": {
      "name": "Ml4t_0103.ipynb",
      "provenance": [],
      "authorship_tag": "ABX9TyMdNDYZiR8iwvb0u7Y2/2ts",
      "include_colab_link": true
    },
    "kernelspec": {
      "name": "python3",
      "display_name": "Python 3"
    }
  },
  "cells": [
    {
      "cell_type": "markdown",
      "metadata": {
        "id": "view-in-github",
        "colab_type": "text"
      },
      "source": [
        "<a href=\"https://colab.research.google.com/github/ElFeo/machine-learning/blob/master/Ml4t_0103.ipynb\" target=\"_parent\"><img src=\"https://colab.research.google.com/assets/colab-badge.svg\" alt=\"Open In Colab\"/></a>"
      ]
    },
    {
      "cell_type": "code",
      "metadata": {
        "id": "wwvfn3twqMkT",
        "colab_type": "code",
        "colab": {}
      },
      "source": [
        "import numpy as np"
      ],
      "execution_count": 0,
      "outputs": []
    },
    {
      "cell_type": "code",
      "metadata": {
        "id": "6OyK_ZBFqTre",
        "colab_type": "code",
        "colab": {
          "base_uri": "https://localhost:8080/",
          "height": 444
        },
        "outputId": "bac25e3a-93ee-4e96-eef0-ae0e26fd35e0"
      },
      "source": [
        "def test_run():\n",
        "  print (np.array([2,3,4]))\n",
        "  print (np.empty((5,4)))\n",
        "  print (np.zeros((3,4)))\n",
        "  print (np.ones((3,4), dtype=np.int))\n",
        "  print (np.random.normal(50,5,(3,4)))\n",
        "\n",
        "  np.random.seed(666)\n",
        "  a0 = np.random.randint(0,10, size=(5,4))\n",
        "  print(\"Array a0:\\n\",a0)\n",
        "  print(\"Array sum a0:\\n\",a0.sum())\n",
        "   \n",
        "  \n",
        "if __name__ == \"__main__\":\n",
        "  test_run()"
      ],
      "execution_count": 16,
      "outputs": [
        {
          "output_type": "stream",
          "text": [
            "[2 3 4]\n",
            "[[9.9e-324 3.0e-323 4.4e-323 2.0e-323]\n",
            " [1.5e-323 4.9e-324 0.0e+000 4.0e-323]\n",
            " [3.5e-323 2.5e-323 9.9e-324 2.5e-323]\n",
            " [2.5e-323 2.0e-323 4.0e-323 2.0e-323]\n",
            " [2.0e-323 0.0e+000 0.0e+000 2.0e-323]]\n",
            "[[0. 0. 0. 0.]\n",
            " [0. 0. 0. 0.]\n",
            " [0. 0. 0. 0.]]\n",
            "[[1 1 1 1]\n",
            " [1 1 1 1]\n",
            " [1 1 1 1]]\n",
            "[[45.59039124 56.26635195 50.14008362 52.04278597]\n",
            " [52.69642824 42.25076496 53.6473226  48.36522617]\n",
            " [55.70668386 52.2621831  38.82515617 56.3523883 ]]\n",
            "Array a0:\n",
            " [[2 6 9 4]\n",
            " [3 1 0 8]\n",
            " [7 5 2 5]\n",
            " [5 4 8 4]\n",
            " [4 0 0 4]]\n",
            "Array sum a0:\n",
            " 81\n"
          ],
          "name": "stdout"
        }
      ]
    }
  ]
}